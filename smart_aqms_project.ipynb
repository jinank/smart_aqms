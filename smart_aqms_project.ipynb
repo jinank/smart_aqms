{
 "cells": [
  {
   "cell_type": "code",
   "execution_count": 2,
   "id": "c8fae2d4",
   "metadata": {},
   "outputs": [],
   "source": [
    "# Install once (ok to re-run)\n",
    "!pip install -q psycopg2-binary sqlalchemy pandas numpy faker scikit-learn plotly joblib python-dotenv\n",
    "\n",
    "import os, math, time, datetime, pathlib\n",
    "from dataclasses import dataclass\n",
    "from typing import List, Tuple\n",
    "\n",
    "import numpy as np\n",
    "import pandas as pd\n",
    "from faker import Faker\n",
    "from joblib import dump, load\n",
    "\n",
    "from sqlalchemy import create_engine, text\n",
    "from sqlalchemy.pool import QueuePool\n",
    "from psycopg2.extras import execute_values\n",
    "\n",
    "from sklearn.ensemble import IsolationForest\n",
    "from sklearn.linear_model import SGDClassifier\n",
    "from sklearn.preprocessing import StandardScaler\n",
    "from sklearn.pipeline import Pipeline"
   ]
  },
  {
   "cell_type": "code",
   "execution_count": 3,
   "id": "c47f76a6",
   "metadata": {},
   "outputs": [
    {
     "name": "stdout",
     "output_type": "stream",
     "text": [
      "✅ Engine ready.\n"
     ]
    }
   ],
   "source": [
    "# Local PostgreSQL credentials\n",
    "PG_HOST = \"localhost\"\n",
    "PG_PORT = 5432\n",
    "PG_DB   = \"smart_aqms\"\n",
    "PG_USER = \"postgres\"\n",
    "PG_PASS = \"Shanu@01\"  # your real password\n",
    "\n",
    "# Safe engine (uses connect_args so special chars are fine)\n",
    "engine = create_engine(\n",
    "    \"postgresql+psycopg2://\",\n",
    "    connect_args={\n",
    "        \"host\": PG_HOST,\n",
    "        \"port\": PG_PORT,\n",
    "        \"dbname\": PG_DB,\n",
    "        \"user\": PG_USER,\n",
    "        \"password\": PG_PASS\n",
    "    },\n",
    "    poolclass=QueuePool,\n",
    "    pool_size=10,\n",
    "    max_overflow=20,\n",
    "    pool_pre_ping=True\n",
    ")\n",
    "print(\"✅ Engine ready.\")\n"
   ]
  },
  {
   "cell_type": "code",
   "execution_count": 6,
   "id": "a4c74042",
   "metadata": {},
   "outputs": [
    {
     "name": "stdout",
     "output_type": "stream",
     "text": [
      "✅ Partitioned schema created successfully.\n"
     ]
    }
   ],
   "source": [
    "ddl_fix = \"\"\"\n",
    "-- remove any old table definition\n",
    "DO $$\n",
    "BEGIN\n",
    "  IF EXISTS (SELECT 1 FROM pg_tables WHERE schemaname='scaqms' AND tablename='air_quality') THEN\n",
    "    EXECUTE 'DROP TABLE scaqms.air_quality CASCADE;';\n",
    "  END IF;\n",
    "END $$;\n",
    "\n",
    "CREATE SCHEMA IF NOT EXISTS scaqms;\n",
    "\n",
    "DO $$ BEGIN\n",
    "  CREATE TYPE scaqms.severity AS ENUM ('Low','Moderate','High','Critical');\n",
    "EXCEPTION WHEN duplicate_object THEN NULL; END $$;\n",
    "\n",
    "CREATE TABLE IF NOT EXISTS scaqms.stations (\n",
    "  station_id SERIAL PRIMARY KEY,\n",
    "  city_zone  VARCHAR(100) NOT NULL,\n",
    "  latitude   NUMERIC(9,6) NOT NULL,\n",
    "  longitude  NUMERIC(9,6) NOT NULL,\n",
    "  installation_date DATE DEFAULT CURRENT_DATE,\n",
    "  is_active BOOLEAN DEFAULT TRUE,\n",
    "  CONSTRAINT uq_station UNIQUE (city_zone, latitude, longitude)\n",
    ");\n",
    "\n",
    "-- ✅ parent partitioned table without a PK\n",
    "CREATE TABLE scaqms.air_quality (\n",
    "  record_id BIGSERIAL,\n",
    "  station_id INT NOT NULL REFERENCES scaqms.stations(station_id) ON DELETE CASCADE,\n",
    "  ts TIMESTAMPTZ NOT NULL DEFAULT now(),\n",
    "  co2_ppm NUMERIC(10,2) CHECK (co2_ppm >= 0),\n",
    "  pm25 NUMERIC(10,2) CHECK (pm25 >= 0),\n",
    "  temperature_c NUMERIC(5,2),\n",
    "  humidity NUMERIC(5,2) CHECK (humidity BETWEEN 0 AND 100),\n",
    "  wind_speed NUMERIC(5,2) CHECK (wind_speed >= 0),\n",
    "  status VARCHAR(20) DEFAULT 'Normal',\n",
    "  aqi_bucket TEXT GENERATED ALWAYS AS (\n",
    "    CASE\n",
    "      WHEN pm25 IS NULL THEN NULL\n",
    "      WHEN pm25 <= 12 THEN 'Good'\n",
    "      WHEN pm25 <= 35 THEN 'Moderate'\n",
    "      WHEN pm25 <= 55 THEN 'Unhealthy'\n",
    "      ELSE 'Hazardous'\n",
    "    END\n",
    "  ) STORED,\n",
    "  -- use a composite UNIQUE constraint including partition key\n",
    "  CONSTRAINT uq_record UNIQUE (record_id, ts)\n",
    ") PARTITION BY RANGE (ts);\n",
    "\n",
    "CREATE TABLE IF NOT EXISTS scaqms.alerts (\n",
    "  alert_id SERIAL PRIMARY KEY,\n",
    "  record_id BIGINT NOT NULL,\n",
    "  alert_type VARCHAR(50),\n",
    "  severity scaqms.severity,\n",
    "  message TEXT,\n",
    "  created_at TIMESTAMPTZ DEFAULT now(),\n",
    "  CONSTRAINT uq_alert UNIQUE (record_id, alert_type)\n",
    ");\n",
    "\n",
    "CREATE TABLE IF NOT EXISTS scaqms.predictions (\n",
    "  prediction_id SERIAL PRIMARY KEY,\n",
    "  record_id BIGINT NOT NULL,\n",
    "  aqi_pred TEXT,\n",
    "  proba_good NUMERIC(6,5),\n",
    "  proba_moderate NUMERIC(6,5),\n",
    "  proba_unhealthy NUMERIC(6,5),\n",
    "  proba_hazardous NUMERIC(6,5),\n",
    "  predicted_at TIMESTAMPTZ DEFAULT now(),\n",
    "  CONSTRAINT uq_pred UNIQUE (record_id)\n",
    ");\n",
    "\n",
    "-- indexes for performance\n",
    "CREATE INDEX IF NOT EXISTS idx_aq_station ON scaqms.air_quality (station_id);\n",
    "CREATE INDEX IF NOT EXISTS idx_aq_ts_desc ON scaqms.air_quality (ts DESC);\n",
    "\n",
    "-- partition creation helper\n",
    "CREATE OR REPLACE FUNCTION scaqms.ensure_month_partition(month_start date)\n",
    "RETURNS void AS $$\n",
    "DECLARE\n",
    "  part_name text := 'air_quality_' || to_char(month_start, 'YYYYMM');\n",
    "  start_ts timestamptz := month_start::timestamptz;\n",
    "  end_ts   timestamptz := (month_start + INTERVAL '1 month')::timestamptz;\n",
    "BEGIN\n",
    "  IF NOT EXISTS (\n",
    "      SELECT 1 FROM pg_class c\n",
    "      JOIN pg_namespace n ON n.oid = c.relnamespace\n",
    "      WHERE n.nspname='scaqms' AND c.relname=part_name\n",
    "  ) THEN\n",
    "    EXECUTE format('CREATE TABLE scaqms.%I PARTITION OF scaqms.air_quality\n",
    "                    FOR VALUES FROM (%L) TO (%L);',\n",
    "                    part_name, start_ts, end_ts);\n",
    "    EXECUTE format('CREATE INDEX IF NOT EXISTS %I_station ON scaqms.%I (station_id);', part_name, part_name);\n",
    "    EXECUTE format('CREATE INDEX IF NOT EXISTS %I_ts ON scaqms.%I (ts DESC);', part_name, part_name);\n",
    "  END IF;\n",
    "END $$ LANGUAGE plpgsql;\n",
    "\n",
    "-- create current + next month partitions\n",
    "SELECT scaqms.ensure_month_partition(date_trunc('month', now())::date);\n",
    "SELECT scaqms.ensure_month_partition((date_trunc('month', now()) + INTERVAL '1 month')::date);\n",
    "\"\"\"\n",
    "with engine.begin() as conn:\n",
    "    conn.execute(text(ddl_fix))\n",
    "print(\"✅ Partitioned schema created successfully.\")\n"
   ]
  },
  {
   "cell_type": "code",
   "execution_count": 7,
   "id": "d4d6d1a2",
   "metadata": {},
   "outputs": [
    {
     "name": "stdout",
     "output_type": "stream",
     "text": [
      "✅ Stations seeded successfully.\n"
     ]
    }
   ],
   "source": [
    "seed_sql = \"\"\"\n",
    "INSERT INTO scaqms.stations (city_zone, latitude, longitude)\n",
    "VALUES (:z, :lat, :lon)\n",
    "ON CONFLICT (city_zone, latitude, longitude) DO NOTHING;\n",
    "\"\"\"\n",
    "stations = [\n",
    "    (\"Downtown\", 40.7128, -74.0060),\n",
    "    (\"Uptown\", 40.7870, -73.9754),\n",
    "    (\"Industrial\", 40.6782, -73.9442),\n",
    "    (\"Harbor\", 40.7003, -74.0122),\n",
    "    (\"Park\", 40.7712, -73.9742),\n",
    "]\n",
    "with engine.begin() as conn:\n",
    "    for z, lat, lon in stations:\n",
    "        conn.execute(text(seed_sql), {\"z\": z, \"lat\": lat, \"lon\": lon})\n",
    "print(\"✅ Stations seeded successfully.\")"
   ]
  },
  {
   "cell_type": "code",
   "execution_count": 15,
   "id": "fbce749b",
   "metadata": {},
   "outputs": [
    {
     "name": "stdout",
     "output_type": "stream",
     "text": [
      "✅ 100 rows of air quality data inserted.\n"
     ]
    }
   ],
   "source": [
    "import random, datetime\n",
    "from faker import Faker\n",
    "from psycopg2.extras import execute_values\n",
    "\n",
    "fake = Faker()\n",
    "\n",
    "rows = []\n",
    "for _ in range(100):\n",
    "    station_id = random.randint(1, 5)\n",
    "    ts = fake.date_time_between(start_date='-1d', end_date='now', tzinfo=datetime.timezone.utc)\n",
    "    co2 = round(random.uniform(350, 900), 2)\n",
    "    pm25 = round(random.uniform(10, 160), 2)\n",
    "    temp = round(random.uniform(10, 40), 2)\n",
    "    humidity = round(random.uniform(30, 90), 2)\n",
    "    wind = round(random.uniform(0.5, 8.0), 2)\n",
    "    status = \"Alert\" if pm25 > 100 or co2 > 800 else \"Normal\"\n",
    "    rows.append((station_id, ts, co2, pm25, temp, humidity, wind, status))\n",
    "\n",
    "insert_sql = \"\"\"\n",
    "INSERT INTO scaqms.air_quality\n",
    "(station_id, ts, co2_ppm, pm25, temperature_c, humidity, wind_speed, status)\n",
    "VALUES %s;\n",
    "\"\"\"\n",
    "\n",
    "raw = engine.raw_connection()\n",
    "try:\n",
    "    with raw.cursor() as cur:\n",
    "        execute_values(cur, insert_sql, rows)\n",
    "    raw.commit()\n",
    "finally:\n",
    "    raw.close()\n",
    "\n",
    "print(\"✅ 100 rows of air quality data inserted.\")"
   ]
  },
  {
   "cell_type": "code",
   "execution_count": 10,
   "id": "cc141776",
   "metadata": {},
   "outputs": [],
   "source": [
    "import math, time, numpy as np\n",
    "\n",
    "def diurnal(hour_f):\n",
    "    return (1 + math.sin(2 * math.pi * hour_f / 24 - math.pi / 2)) / 2\n",
    "\n",
    "def sample_row(station_id, t):\n",
    "    hour_f = t.hour + t.minute / 60\n",
    "    rush = 1.0 + (0.25 if (7 <= t.hour <= 9 or 17 <= t.hour <= 19) else 0.0)\n",
    "    base_pm  = 12 + 25 * diurnal(hour_f) + np.random.normal(0, 3)\n",
    "    base_co2 = 400 + 120 * diurnal((hour_f + 2) % 24) + np.random.normal(0, 15)\n",
    "    if np.random.rand() < 0.02: base_pm *= np.random.uniform(2.5, 6.0)\n",
    "    if np.random.rand() < 0.01: base_co2 *= np.random.uniform(1.6, 2.5)\n",
    "    pm25 = round(max(0, base_pm * rush), 2)\n",
    "    co2  = round(max(0, base_co2 * rush), 2)\n",
    "    temp = round(10 + 15 * diurnal((hour_f + 6) % 24) + np.random.normal(0, 1.2), 2)\n",
    "    hum  = float(np.clip(55 + 20 * diurnal((hour_f + 10) % 24) + np.random.normal(0, 5), 15, 98))\n",
    "    wind = max(0.0, round(np.random.lognormal(mean=0.8, sigma=0.5), 2))\n",
    "    status = \"Alert\" if (pm25 > 100 or co2 > 800) else \"Normal\"\n",
    "    return (station_id, t, co2, pm25, temp, hum, wind, status)\n",
    "\n",
    "def run_stream(minutes=5, per_station_per_sec=1.0):\n",
    "    ids = [r[0] for r in engine.execute(text(\"SELECT station_id FROM scaqms.stations WHERE is_active\")).fetchall()]\n",
    "    end_time = time.time() + minutes * 60\n",
    "    while time.time() < end_time:\n",
    "        t = datetime.datetime.utcnow().replace(tzinfo=datetime.timezone.utc)\n",
    "        rows = [sample_row(sid, t) for sid in ids]\n",
    "        raw = engine.raw_connection()\n",
    "        try:\n",
    "            with raw.cursor() as cur:\n",
    "                execute_values(cur, insert_sql, rows)\n",
    "            raw.commit()\n",
    "        finally:\n",
    "            raw.close()\n",
    "        time.sleep(max(0, 1 / per_station_per_sec))\n",
    "\n",
    "# run_stream(minutes=3, per_station_per_sec=1)\n"
   ]
  },
  {
   "cell_type": "code",
   "execution_count": 11,
   "id": "9f957035",
   "metadata": {},
   "outputs": [],
   "source": [
    "import pandas as pd\n",
    "from sklearn.ensemble import IsolationForest\n",
    "\n",
    "def detect_outliers(window_minutes=60, contamination=0.05):\n",
    "    query = \"\"\"\n",
    "        SELECT record_id, station_id, ts, co2_ppm, pm25, temperature_c\n",
    "        FROM scaqms.air_quality\n",
    "        WHERE ts >= now() - INTERVAL :win\n",
    "        ORDER BY ts ASC;\n",
    "    \"\"\"\n",
    "    with engine.begin() as conn:\n",
    "        df = pd.read_sql(text(query), conn, params={\"win\": f\"{window_minutes} minutes\"})\n",
    "    if df.empty:\n",
    "        print(\"⚠️ No recent data.\")\n",
    "        return 0\n",
    "\n",
    "    iso = IsolationForest(contamination=contamination, random_state=42)\n",
    "    df['is_outlier'] = iso.fit_predict(df[['co2_ppm','pm25','temperature_c']])\n",
    "    out = df[df['is_outlier'] == -1]\n",
    "    if out.empty:\n",
    "        print(\"✅ No anomalies detected.\")\n",
    "        return 0\n",
    "\n",
    "    rows = [(int(r.record_id), 'Anomaly', 'Critical',\n",
    "             f\"Abnormal reading at station {r.station_id}: PM2.5={r.pm25}, CO₂={r.co2_ppm}\")\n",
    "            for r in out.itertuples()]\n",
    "\n",
    "    sql = \"\"\"\n",
    "        INSERT INTO scaqms.alerts (record_id, alert_type, severity, message)\n",
    "        VALUES %s\n",
    "        ON CONFLICT (record_id, alert_type) DO NOTHING;\n",
    "    \"\"\"\n",
    "    raw = engine.raw_connection()\n",
    "    try:\n",
    "        with raw.cursor() as cur:\n",
    "            execute_values(cur, sql, rows)\n",
    "        raw.commit()\n",
    "    finally:\n",
    "        raw.close()\n",
    "\n",
    "    print(f\"🚨 Inserted {len(out)} alerts.\")\n",
    "    return len(out)\n",
    "\n",
    "# detect_outliers(60, 0.05)\n"
   ]
  },
  {
   "cell_type": "code",
   "execution_count": 12,
   "id": "b61375ed",
   "metadata": {},
   "outputs": [],
   "source": [
    "import numpy as np\n",
    "from sklearn.linear_model import SGDClassifier\n",
    "from sklearn.preprocessing import StandardScaler\n",
    "from sklearn.pipeline import Pipeline\n",
    "from joblib import dump, load\n",
    "import pathlib\n",
    "\n",
    "MODEL_PATH = \"aqi_model.joblib\"\n",
    "LABELS = [\"Good\", \"Moderate\", \"Unhealthy\", \"Hazardous\"]\n",
    "label_to_idx = {l:i for i,l in enumerate(LABELS)}\n",
    "\n",
    "def load_or_init_model():\n",
    "    if pathlib.Path(MODEL_PATH).exists():\n",
    "        return load(MODEL_PATH)\n",
    "    pipe = Pipeline([\n",
    "        (\"scaler\", StandardScaler()),\n",
    "        (\"clf\", SGDClassifier(loss=\"log_loss\", max_iter=1, learning_rate=\"optimal\", tol=None, random_state=42))\n",
    "    ])\n",
    "    X0 = np.zeros((1,5)); y0 = np.array([0])\n",
    "    pipe.named_steps[\"clf\"].partial_fit(X0, y0, classes=np.arange(len(LABELS)))\n",
    "    return pipe\n",
    "\n",
    "def features(df): return df[['co2_ppm','pm25','temperature_c','humidity','wind_speed']].astype(float).fillna(0.0)\n",
    "\n",
    "def train_and_predict(window_minutes=120):\n",
    "    model = load_or_init_model()\n",
    "    with engine.begin() as conn:\n",
    "        df = pd.read_sql(text(\"\"\"\n",
    "            SELECT record_id, co2_ppm, pm25, temperature_c, humidity, wind_speed, aqi_bucket\n",
    "            FROM scaqms.air_quality\n",
    "            WHERE ts >= now() - INTERVAL :mins\n",
    "        \"\"\"), conn, params={\"mins\": f\"{window_minutes} minutes\"})\n",
    "    if df.empty:\n",
    "        print(\"⚠️ No data for training.\")\n",
    "        return\n",
    "    train = df.dropna(subset=['aqi_bucket'])\n",
    "    if train.empty:\n",
    "        print(\"⚠️ No AQI labels available.\")\n",
    "        return\n",
    "    X, y = features(train), train['aqi_bucket'].map(label_to_idx)\n",
    "    model.named_steps[\"clf\"].partial_fit(X, y, classes=np.arange(len(LABELS)))\n",
    "    dump(model, MODEL_PATH)\n",
    "    print(f\"🧠 Model updated on {len(train)} samples.\")\n",
    "\n",
    "    Xp = features(df)\n",
    "    preds = model.named_steps[\"clf\"].predict(Xp)\n",
    "    pred_labels = [LABELS[p] for p in preds]\n",
    "\n",
    "    rows = [(int(r.record_id), pred_labels[i]) for i, r in enumerate(df.itertuples())]\n",
    "    sql = \"\"\"\n",
    "        INSERT INTO scaqms.predictions (record_id, aqi_pred)\n",
    "        VALUES %s\n",
    "        ON CONFLICT (record_id) DO UPDATE\n",
    "        SET aqi_pred = EXCLUDED.aqi_pred, predicted_at = now();\n",
    "    \"\"\"\n",
    "    raw = engine.raw_connection()\n",
    "    try:\n",
    "        with raw.cursor() as cur:\n",
    "            execute_values(cur, sql, rows)\n",
    "        raw.commit()\n",
    "    finally:\n",
    "        raw.close()\n",
    "    print(f\"📈 Predictions updated for {len(rows)} rows.\")\n"
   ]
  },
  {
   "cell_type": "code",
   "execution_count": 16,
   "id": "70da1c3d",
   "metadata": {},
   "outputs": [
    {
     "data": {
      "application/vnd.plotly.v1+json": {
       "config": {
        "plotlyServerURL": "https://plot.ly"
       },
       "data": [
        {
         "customdata": [
          [
           "Downtown",
           483.51,
           14.06,
           54.58
          ],
          [
           "Industrial",
           643.31,
           30.16,
           81.71
          ],
          [
           "Park",
           829.73,
           14.18,
           72.36
          ]
         ],
         "hovertemplate": "aqi_pred=Hazardous<br>Timestamp=%{x}<br>PM2.5 (µg/m³)=%{y}<br>city_zone=%{customdata[0]}<br>co2_ppm=%{customdata[1]}<br>temperature_c=%{customdata[2]}<br>humidity=%{customdata[3]}<extra></extra>",
         "legendgroup": "Hazardous",
         "marker": {
          "color": "#99004C",
          "line": {
           "color": "DarkSlateGrey",
           "width": 1
          },
          "size": 9,
          "symbol": "circle"
         },
         "mode": "markers",
         "name": "Hazardous",
         "opacity": 0.85,
         "orientation": "v",
         "showlegend": true,
         "type": "scatter",
         "x": [
          "2025-10-09T04:05:33.000000000",
          "2025-10-09T02:24:04.000000000",
          "2025-10-08T17:31:46.000000000"
         ],
         "xaxis": "x",
         "y": {
          "bdata": "FK5H4Xp0UEDhehSuRwFbQM3MzMzMbGNA",
          "dtype": "f8"
         },
         "yaxis": "y"
        }
       ],
       "layout": {
        "height": 600,
        "legend": {
         "orientation": "h",
         "title": {
          "text": "aqi_pred"
         },
         "tracegroupgap": 0,
         "x": 1,
         "xanchor": "right",
         "y": 1.05
        },
        "paper_bgcolor": "white",
        "plot_bgcolor": "white",
        "template": {
         "data": {
          "bar": [
           {
            "error_x": {
             "color": "#2a3f5f"
            },
            "error_y": {
             "color": "#2a3f5f"
            },
            "marker": {
             "line": {
              "color": "#E5ECF6",
              "width": 0.5
             },
             "pattern": {
              "fillmode": "overlay",
              "size": 10,
              "solidity": 0.2
             }
            },
            "type": "bar"
           }
          ],
          "barpolar": [
           {
            "marker": {
             "line": {
              "color": "#E5ECF6",
              "width": 0.5
             },
             "pattern": {
              "fillmode": "overlay",
              "size": 10,
              "solidity": 0.2
             }
            },
            "type": "barpolar"
           }
          ],
          "carpet": [
           {
            "aaxis": {
             "endlinecolor": "#2a3f5f",
             "gridcolor": "white",
             "linecolor": "white",
             "minorgridcolor": "white",
             "startlinecolor": "#2a3f5f"
            },
            "baxis": {
             "endlinecolor": "#2a3f5f",
             "gridcolor": "white",
             "linecolor": "white",
             "minorgridcolor": "white",
             "startlinecolor": "#2a3f5f"
            },
            "type": "carpet"
           }
          ],
          "choropleth": [
           {
            "colorbar": {
             "outlinewidth": 0,
             "ticks": ""
            },
            "type": "choropleth"
           }
          ],
          "contour": [
           {
            "colorbar": {
             "outlinewidth": 0,
             "ticks": ""
            },
            "colorscale": [
             [
              0,
              "#0d0887"
             ],
             [
              0.1111111111111111,
              "#46039f"
             ],
             [
              0.2222222222222222,
              "#7201a8"
             ],
             [
              0.3333333333333333,
              "#9c179e"
             ],
             [
              0.4444444444444444,
              "#bd3786"
             ],
             [
              0.5555555555555556,
              "#d8576b"
             ],
             [
              0.6666666666666666,
              "#ed7953"
             ],
             [
              0.7777777777777778,
              "#fb9f3a"
             ],
             [
              0.8888888888888888,
              "#fdca26"
             ],
             [
              1,
              "#f0f921"
             ]
            ],
            "type": "contour"
           }
          ],
          "contourcarpet": [
           {
            "colorbar": {
             "outlinewidth": 0,
             "ticks": ""
            },
            "type": "contourcarpet"
           }
          ],
          "heatmap": [
           {
            "colorbar": {
             "outlinewidth": 0,
             "ticks": ""
            },
            "colorscale": [
             [
              0,
              "#0d0887"
             ],
             [
              0.1111111111111111,
              "#46039f"
             ],
             [
              0.2222222222222222,
              "#7201a8"
             ],
             [
              0.3333333333333333,
              "#9c179e"
             ],
             [
              0.4444444444444444,
              "#bd3786"
             ],
             [
              0.5555555555555556,
              "#d8576b"
             ],
             [
              0.6666666666666666,
              "#ed7953"
             ],
             [
              0.7777777777777778,
              "#fb9f3a"
             ],
             [
              0.8888888888888888,
              "#fdca26"
             ],
             [
              1,
              "#f0f921"
             ]
            ],
            "type": "heatmap"
           }
          ],
          "histogram": [
           {
            "marker": {
             "pattern": {
              "fillmode": "overlay",
              "size": 10,
              "solidity": 0.2
             }
            },
            "type": "histogram"
           }
          ],
          "histogram2d": [
           {
            "colorbar": {
             "outlinewidth": 0,
             "ticks": ""
            },
            "colorscale": [
             [
              0,
              "#0d0887"
             ],
             [
              0.1111111111111111,
              "#46039f"
             ],
             [
              0.2222222222222222,
              "#7201a8"
             ],
             [
              0.3333333333333333,
              "#9c179e"
             ],
             [
              0.4444444444444444,
              "#bd3786"
             ],
             [
              0.5555555555555556,
              "#d8576b"
             ],
             [
              0.6666666666666666,
              "#ed7953"
             ],
             [
              0.7777777777777778,
              "#fb9f3a"
             ],
             [
              0.8888888888888888,
              "#fdca26"
             ],
             [
              1,
              "#f0f921"
             ]
            ],
            "type": "histogram2d"
           }
          ],
          "histogram2dcontour": [
           {
            "colorbar": {
             "outlinewidth": 0,
             "ticks": ""
            },
            "colorscale": [
             [
              0,
              "#0d0887"
             ],
             [
              0.1111111111111111,
              "#46039f"
             ],
             [
              0.2222222222222222,
              "#7201a8"
             ],
             [
              0.3333333333333333,
              "#9c179e"
             ],
             [
              0.4444444444444444,
              "#bd3786"
             ],
             [
              0.5555555555555556,
              "#d8576b"
             ],
             [
              0.6666666666666666,
              "#ed7953"
             ],
             [
              0.7777777777777778,
              "#fb9f3a"
             ],
             [
              0.8888888888888888,
              "#fdca26"
             ],
             [
              1,
              "#f0f921"
             ]
            ],
            "type": "histogram2dcontour"
           }
          ],
          "mesh3d": [
           {
            "colorbar": {
             "outlinewidth": 0,
             "ticks": ""
            },
            "type": "mesh3d"
           }
          ],
          "parcoords": [
           {
            "line": {
             "colorbar": {
              "outlinewidth": 0,
              "ticks": ""
             }
            },
            "type": "parcoords"
           }
          ],
          "pie": [
           {
            "automargin": true,
            "type": "pie"
           }
          ],
          "scatter": [
           {
            "fillpattern": {
             "fillmode": "overlay",
             "size": 10,
             "solidity": 0.2
            },
            "type": "scatter"
           }
          ],
          "scatter3d": [
           {
            "line": {
             "colorbar": {
              "outlinewidth": 0,
              "ticks": ""
             }
            },
            "marker": {
             "colorbar": {
              "outlinewidth": 0,
              "ticks": ""
             }
            },
            "type": "scatter3d"
           }
          ],
          "scattercarpet": [
           {
            "marker": {
             "colorbar": {
              "outlinewidth": 0,
              "ticks": ""
             }
            },
            "type": "scattercarpet"
           }
          ],
          "scattergeo": [
           {
            "marker": {
             "colorbar": {
              "outlinewidth": 0,
              "ticks": ""
             }
            },
            "type": "scattergeo"
           }
          ],
          "scattergl": [
           {
            "marker": {
             "colorbar": {
              "outlinewidth": 0,
              "ticks": ""
             }
            },
            "type": "scattergl"
           }
          ],
          "scattermap": [
           {
            "marker": {
             "colorbar": {
              "outlinewidth": 0,
              "ticks": ""
             }
            },
            "type": "scattermap"
           }
          ],
          "scattermapbox": [
           {
            "marker": {
             "colorbar": {
              "outlinewidth": 0,
              "ticks": ""
             }
            },
            "type": "scattermapbox"
           }
          ],
          "scatterpolar": [
           {
            "marker": {
             "colorbar": {
              "outlinewidth": 0,
              "ticks": ""
             }
            },
            "type": "scatterpolar"
           }
          ],
          "scatterpolargl": [
           {
            "marker": {
             "colorbar": {
              "outlinewidth": 0,
              "ticks": ""
             }
            },
            "type": "scatterpolargl"
           }
          ],
          "scatterternary": [
           {
            "marker": {
             "colorbar": {
              "outlinewidth": 0,
              "ticks": ""
             }
            },
            "type": "scatterternary"
           }
          ],
          "surface": [
           {
            "colorbar": {
             "outlinewidth": 0,
             "ticks": ""
            },
            "colorscale": [
             [
              0,
              "#0d0887"
             ],
             [
              0.1111111111111111,
              "#46039f"
             ],
             [
              0.2222222222222222,
              "#7201a8"
             ],
             [
              0.3333333333333333,
              "#9c179e"
             ],
             [
              0.4444444444444444,
              "#bd3786"
             ],
             [
              0.5555555555555556,
              "#d8576b"
             ],
             [
              0.6666666666666666,
              "#ed7953"
             ],
             [
              0.7777777777777778,
              "#fb9f3a"
             ],
             [
              0.8888888888888888,
              "#fdca26"
             ],
             [
              1,
              "#f0f921"
             ]
            ],
            "type": "surface"
           }
          ],
          "table": [
           {
            "cells": {
             "fill": {
              "color": "#EBF0F8"
             },
             "line": {
              "color": "white"
             }
            },
            "header": {
             "fill": {
              "color": "#C8D4E3"
             },
             "line": {
              "color": "white"
             }
            },
            "type": "table"
           }
          ]
         },
         "layout": {
          "annotationdefaults": {
           "arrowcolor": "#2a3f5f",
           "arrowhead": 0,
           "arrowwidth": 1
          },
          "autotypenumbers": "strict",
          "coloraxis": {
           "colorbar": {
            "outlinewidth": 0,
            "ticks": ""
           }
          },
          "colorscale": {
           "diverging": [
            [
             0,
             "#8e0152"
            ],
            [
             0.1,
             "#c51b7d"
            ],
            [
             0.2,
             "#de77ae"
            ],
            [
             0.3,
             "#f1b6da"
            ],
            [
             0.4,
             "#fde0ef"
            ],
            [
             0.5,
             "#f7f7f7"
            ],
            [
             0.6,
             "#e6f5d0"
            ],
            [
             0.7,
             "#b8e186"
            ],
            [
             0.8,
             "#7fbc41"
            ],
            [
             0.9,
             "#4d9221"
            ],
            [
             1,
             "#276419"
            ]
           ],
           "sequential": [
            [
             0,
             "#0d0887"
            ],
            [
             0.1111111111111111,
             "#46039f"
            ],
            [
             0.2222222222222222,
             "#7201a8"
            ],
            [
             0.3333333333333333,
             "#9c179e"
            ],
            [
             0.4444444444444444,
             "#bd3786"
            ],
            [
             0.5555555555555556,
             "#d8576b"
            ],
            [
             0.6666666666666666,
             "#ed7953"
            ],
            [
             0.7777777777777778,
             "#fb9f3a"
            ],
            [
             0.8888888888888888,
             "#fdca26"
            ],
            [
             1,
             "#f0f921"
            ]
           ],
           "sequentialminus": [
            [
             0,
             "#0d0887"
            ],
            [
             0.1111111111111111,
             "#46039f"
            ],
            [
             0.2222222222222222,
             "#7201a8"
            ],
            [
             0.3333333333333333,
             "#9c179e"
            ],
            [
             0.4444444444444444,
             "#bd3786"
            ],
            [
             0.5555555555555556,
             "#d8576b"
            ],
            [
             0.6666666666666666,
             "#ed7953"
            ],
            [
             0.7777777777777778,
             "#fb9f3a"
            ],
            [
             0.8888888888888888,
             "#fdca26"
            ],
            [
             1,
             "#f0f921"
            ]
           ]
          },
          "colorway": [
           "#636efa",
           "#EF553B",
           "#00cc96",
           "#ab63fa",
           "#FFA15A",
           "#19d3f3",
           "#FF6692",
           "#B6E880",
           "#FF97FF",
           "#FECB52"
          ],
          "font": {
           "color": "#2a3f5f"
          },
          "geo": {
           "bgcolor": "white",
           "lakecolor": "white",
           "landcolor": "#E5ECF6",
           "showlakes": true,
           "showland": true,
           "subunitcolor": "white"
          },
          "hoverlabel": {
           "align": "left"
          },
          "hovermode": "closest",
          "mapbox": {
           "style": "light"
          },
          "paper_bgcolor": "white",
          "plot_bgcolor": "#E5ECF6",
          "polar": {
           "angularaxis": {
            "gridcolor": "white",
            "linecolor": "white",
            "ticks": ""
           },
           "bgcolor": "#E5ECF6",
           "radialaxis": {
            "gridcolor": "white",
            "linecolor": "white",
            "ticks": ""
           }
          },
          "scene": {
           "xaxis": {
            "backgroundcolor": "#E5ECF6",
            "gridcolor": "white",
            "gridwidth": 2,
            "linecolor": "white",
            "showbackground": true,
            "ticks": "",
            "zerolinecolor": "white"
           },
           "yaxis": {
            "backgroundcolor": "#E5ECF6",
            "gridcolor": "white",
            "gridwidth": 2,
            "linecolor": "white",
            "showbackground": true,
            "ticks": "",
            "zerolinecolor": "white"
           },
           "zaxis": {
            "backgroundcolor": "#E5ECF6",
            "gridcolor": "white",
            "gridwidth": 2,
            "linecolor": "white",
            "showbackground": true,
            "ticks": "",
            "zerolinecolor": "white"
           }
          },
          "shapedefaults": {
           "line": {
            "color": "#2a3f5f"
           }
          },
          "ternary": {
           "aaxis": {
            "gridcolor": "white",
            "linecolor": "white",
            "ticks": ""
           },
           "baxis": {
            "gridcolor": "white",
            "linecolor": "white",
            "ticks": ""
           },
           "bgcolor": "#E5ECF6",
           "caxis": {
            "gridcolor": "white",
            "linecolor": "white",
            "ticks": ""
           }
          },
          "title": {
           "x": 0.05
          },
          "xaxis": {
           "automargin": true,
           "gridcolor": "white",
           "linecolor": "white",
           "ticks": "",
           "title": {
            "standoff": 15
           },
           "zerolinecolor": "white",
           "zerolinewidth": 2
          },
          "yaxis": {
           "automargin": true,
           "gridcolor": "white",
           "linecolor": "white",
           "ticks": "",
           "title": {
            "standoff": 15
           },
           "zerolinecolor": "white",
           "zerolinewidth": 2
          }
         }
        },
        "title": {
         "text": "🌆 PM2.5 vs Time — Predicted AQI (24 h)"
        },
        "width": 1000,
        "xaxis": {
         "anchor": "y",
         "domain": [
          0,
          1
         ],
         "gridcolor": "lightgrey",
         "showgrid": true,
         "title": {
          "text": "Timestamp"
         }
        },
        "yaxis": {
         "anchor": "x",
         "domain": [
          0,
          1
         ],
         "gridcolor": "lightgrey",
         "showgrid": true,
         "title": {
          "text": "PM2.5 (µg/m³)"
         }
        }
       }
      }
     },
     "metadata": {},
     "output_type": "display_data"
    }
   ],
   "source": [
    "import plotly.express as px\n",
    "\n",
    "with engine.begin() as conn:\n",
    "    df_latest = pd.read_sql(text(\"\"\"\n",
    "        SELECT a.*, s.city_zone, p.aqi_pred\n",
    "        FROM scaqms.air_quality a\n",
    "        JOIN scaqms.stations s ON a.station_id = s.station_id\n",
    "        LEFT JOIN scaqms.predictions p ON a.record_id = p.record_id\n",
    "        WHERE a.ts >= now() - INTERVAL '24 hours'\n",
    "        ORDER BY a.ts DESC\n",
    "        LIMIT 1000;\n",
    "    \"\"\"), conn)\n",
    "\n",
    "if df_latest.empty:\n",
    "    print(\"⚠️ No data to plot — run generator first.\")\n",
    "else:\n",
    "    aqi_colors = {\"Good\":\"#00E400\",\"Moderate\":\"#FFFF00\",\"Unhealthy\":\"#FF7E00\",\"Hazardous\":\"#99004C\",None:\"#808080\"}\n",
    "    fig = px.scatter(\n",
    "        df_latest, x=\"ts\", y=\"pm25\", color=\"aqi_pred\",\n",
    "        color_discrete_map=aqi_colors,\n",
    "        hover_data=[\"city_zone\",\"co2_ppm\",\"temperature_c\",\"humidity\"],\n",
    "        title=\"🌆 PM2.5 vs Time — Predicted AQI (24 h)\",\n",
    "        labels={\"ts\":\"Timestamp\",\"pm25\":\"PM2.5 (µg/m³)\"},\n",
    "        width=1000, height=600\n",
    "    )\n",
    "    fig.update_traces(marker=dict(size=9, line=dict(width=1, color='DarkSlateGrey')), opacity=0.85)\n",
    "    fig.update_layout(plot_bgcolor='white', paper_bgcolor='white',\n",
    "                      xaxis=dict(showgrid=True, gridcolor='lightgrey'),\n",
    "                      yaxis=dict(showgrid=True, gridcolor='lightgrey'),\n",
    "                      legend=dict(orientation=\"h\", y=1.05, x=1, xanchor=\"right\"))\n",
    "    fig.show()\n"
   ]
  },
  {
   "cell_type": "code",
   "execution_count": 14,
   "id": "8c7e201f",
   "metadata": {},
   "outputs": [],
   "source": [
    "import time\n",
    "def monitor_loop(interval_sec=60):\n",
    "    while True:\n",
    "        try:\n",
    "            detect_outliers(60, 0.06)\n",
    "            train_and_predict(120)\n",
    "        except Exception as e:\n",
    "            print(\"❌ Monitor loop error:\", e)\n",
    "        time.sleep(interval_sec)\n",
    "\n",
    "# monitor_loop(60)\n"
   ]
  }
 ],
 "metadata": {
  "kernelspec": {
   "display_name": "Python 3",
   "language": "python",
   "name": "python3"
  },
  "language_info": {
   "codemirror_mode": {
    "name": "ipython",
    "version": 3
   },
   "file_extension": ".py",
   "mimetype": "text/x-python",
   "name": "python",
   "nbconvert_exporter": "python",
   "pygments_lexer": "ipython3",
   "version": "3.12.6"
  }
 },
 "nbformat": 4,
 "nbformat_minor": 5
}
